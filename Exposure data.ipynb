{
 "cells": [
  {
   "cell_type": "code",
   "execution_count": 1,
   "metadata": {},
   "outputs": [],
   "source": [
    "import pandas as pd\n",
    "import numpy as np"
   ]
  },
  {
   "cell_type": "markdown",
   "metadata": {},
   "source": [
    "Import the dataset"
   ]
  },
  {
   "cell_type": "code",
   "execution_count": 5,
   "metadata": {},
   "outputs": [
    {
     "data": {
      "text/plain": [
       "'C:\\\\Users\\\\ME'"
      ]
     },
     "execution_count": 5,
     "metadata": {},
     "output_type": "execute_result"
    }
   ],
   "source": [
    "import os\n",
    "os.getcwd()"
   ]
  },
  {
   "cell_type": "code",
   "execution_count": 15,
   "metadata": {},
   "outputs": [
    {
     "data": {
      "text/html": [
       "<div>\n",
       "<style scoped>\n",
       "    .dataframe tbody tr th:only-of-type {\n",
       "        vertical-align: middle;\n",
       "    }\n",
       "\n",
       "    .dataframe tbody tr th {\n",
       "        vertical-align: top;\n",
       "    }\n",
       "\n",
       "    .dataframe thead th {\n",
       "        text-align: right;\n",
       "    }\n",
       "</style>\n",
       "<table border=\"1\" class=\"dataframe\">\n",
       "  <thead>\n",
       "    <tr style=\"text-align: right;\">\n",
       "      <th></th>\n",
       "      <th>Cyclone</th>\n",
       "      <th>Injury or death</th>\n",
       "      <th>No warning</th>\n",
       "      <th>Losses of physical assets</th>\n",
       "      <th>Faces tidal flood</th>\n",
       "      <th>Exposure</th>\n",
       "    </tr>\n",
       "  </thead>\n",
       "  <tbody>\n",
       "    <tr>\n",
       "      <th>0</th>\n",
       "      <td>1.0</td>\n",
       "      <td>1</td>\n",
       "      <td>0</td>\n",
       "      <td>1.00</td>\n",
       "      <td>1</td>\n",
       "      <td>0.80</td>\n",
       "    </tr>\n",
       "    <tr>\n",
       "      <th>1</th>\n",
       "      <td>1.0</td>\n",
       "      <td>1</td>\n",
       "      <td>0</td>\n",
       "      <td>1.00</td>\n",
       "      <td>1</td>\n",
       "      <td>0.80</td>\n",
       "    </tr>\n",
       "    <tr>\n",
       "      <th>2</th>\n",
       "      <td>1.0</td>\n",
       "      <td>1</td>\n",
       "      <td>0</td>\n",
       "      <td>1.00</td>\n",
       "      <td>1</td>\n",
       "      <td>0.80</td>\n",
       "    </tr>\n",
       "    <tr>\n",
       "      <th>3</th>\n",
       "      <td>0.0</td>\n",
       "      <td>1</td>\n",
       "      <td>0</td>\n",
       "      <td>0.75</td>\n",
       "      <td>0</td>\n",
       "      <td>0.35</td>\n",
       "    </tr>\n",
       "    <tr>\n",
       "      <th>4</th>\n",
       "      <td>1.0</td>\n",
       "      <td>1</td>\n",
       "      <td>0</td>\n",
       "      <td>1.00</td>\n",
       "      <td>1</td>\n",
       "      <td>0.80</td>\n",
       "    </tr>\n",
       "    <tr>\n",
       "      <th>...</th>\n",
       "      <td>...</td>\n",
       "      <td>...</td>\n",
       "      <td>...</td>\n",
       "      <td>...</td>\n",
       "      <td>...</td>\n",
       "      <td>...</td>\n",
       "    </tr>\n",
       "    <tr>\n",
       "      <th>95</th>\n",
       "      <td>1.0</td>\n",
       "      <td>0</td>\n",
       "      <td>0</td>\n",
       "      <td>0.50</td>\n",
       "      <td>0</td>\n",
       "      <td>0.30</td>\n",
       "    </tr>\n",
       "    <tr>\n",
       "      <th>96</th>\n",
       "      <td>1.0</td>\n",
       "      <td>0</td>\n",
       "      <td>0</td>\n",
       "      <td>1.00</td>\n",
       "      <td>1</td>\n",
       "      <td>0.60</td>\n",
       "    </tr>\n",
       "    <tr>\n",
       "      <th>97</th>\n",
       "      <td>1.0</td>\n",
       "      <td>0</td>\n",
       "      <td>0</td>\n",
       "      <td>1.00</td>\n",
       "      <td>0</td>\n",
       "      <td>0.40</td>\n",
       "    </tr>\n",
       "    <tr>\n",
       "      <th>98</th>\n",
       "      <td>1.0</td>\n",
       "      <td>1</td>\n",
       "      <td>0</td>\n",
       "      <td>1.00</td>\n",
       "      <td>1</td>\n",
       "      <td>0.80</td>\n",
       "    </tr>\n",
       "    <tr>\n",
       "      <th>99</th>\n",
       "      <td>1.0</td>\n",
       "      <td>1</td>\n",
       "      <td>1</td>\n",
       "      <td>1.00</td>\n",
       "      <td>1</td>\n",
       "      <td>1.00</td>\n",
       "    </tr>\n",
       "  </tbody>\n",
       "</table>\n",
       "<p>100 rows × 6 columns</p>\n",
       "</div>"
      ],
      "text/plain": [
       "    Cyclone  Injury or death  No warning  Losses of physical assets  \\\n",
       "0       1.0                1           0                       1.00   \n",
       "1       1.0                1           0                       1.00   \n",
       "2       1.0                1           0                       1.00   \n",
       "3       0.0                1           0                       0.75   \n",
       "4       1.0                1           0                       1.00   \n",
       "..      ...              ...         ...                        ...   \n",
       "95      1.0                0           0                       0.50   \n",
       "96      1.0                0           0                       1.00   \n",
       "97      1.0                0           0                       1.00   \n",
       "98      1.0                1           0                       1.00   \n",
       "99      1.0                1           1                       1.00   \n",
       "\n",
       "    Faces tidal flood  Exposure  \n",
       "0                   1      0.80  \n",
       "1                   1      0.80  \n",
       "2                   1      0.80  \n",
       "3                   0      0.35  \n",
       "4                   1      0.80  \n",
       "..                ...       ...  \n",
       "95                  0      0.30  \n",
       "96                  1      0.60  \n",
       "97                  0      0.40  \n",
       "98                  1      0.80  \n",
       "99                  1      1.00  \n",
       "\n",
       "[100 rows x 6 columns]"
      ]
     },
     "execution_count": 15,
     "metadata": {},
     "output_type": "execute_result"
    }
   ],
   "source": [
    "data_df= pd.read_csv(\"Exposure final.csv\")\n",
    "data_df"
   ]
  },
  {
   "cell_type": "markdown",
   "metadata": {},
   "source": [
    "Define X and Y"
   ]
  },
  {
   "cell_type": "code",
   "execution_count": 16,
   "metadata": {},
   "outputs": [],
   "source": [
    "x= data_df.drop([\"Exposure\"],axis=1).values\n",
    "y=data_df[\"Exposure\"].values"
   ]
  },
  {
   "cell_type": "code",
   "execution_count": 17,
   "metadata": {},
   "outputs": [
    {
     "name": "stdout",
     "output_type": "stream",
     "text": [
      "[[1.   1.   0.   1.   1.  ]\n",
      " [1.   1.   0.   1.   1.  ]\n",
      " [1.   1.   0.   1.   1.  ]\n",
      " [0.   1.   0.   0.75 0.  ]\n",
      " [1.   1.   0.   1.   1.  ]\n",
      " [1.   0.   0.   0.75 1.  ]\n",
      " [0.67 0.   0.   0.25 1.  ]\n",
      " [1.   1.   1.   1.   1.  ]\n",
      " [1.   1.   1.   1.   1.  ]\n",
      " [0.67 0.   0.   0.25 1.  ]\n",
      " [1.   1.   0.   1.   1.  ]\n",
      " [1.   1.   0.   1.   1.  ]\n",
      " [1.   1.   1.   1.   1.  ]\n",
      " [1.   1.   1.   1.   1.  ]\n",
      " [0.67 1.   0.   1.   0.  ]\n",
      " [1.   0.   0.   1.   0.  ]\n",
      " [1.   1.   0.   1.   1.  ]\n",
      " [0.67 0.   0.   1.   1.  ]\n",
      " [1.   1.   0.   1.   1.  ]\n",
      " [0.67 1.   0.   1.   0.  ]\n",
      " [1.   1.   1.   0.5  0.  ]\n",
      " [1.   0.   0.   0.5  0.  ]\n",
      " [1.   1.   0.   1.   0.  ]\n",
      " [1.   0.   0.   1.   0.  ]\n",
      " [1.   0.   0.   1.   0.  ]\n",
      " [1.   0.   1.   1.   0.  ]\n",
      " [0.   0.   0.   1.   0.  ]\n",
      " [1.   0.   0.   1.   0.  ]\n",
      " [1.   0.   1.   0.   0.  ]\n",
      " [1.   0.   0.   1.   0.  ]\n",
      " [1.   0.   0.   1.   0.  ]\n",
      " [0.67 0.   0.   1.   0.  ]\n",
      " [1.   0.   0.   1.   0.  ]\n",
      " [0.67 0.   0.   0.75 1.  ]\n",
      " [0.67 0.   0.   1.   0.  ]\n",
      " [1.   0.   1.   1.   0.  ]\n",
      " [1.   0.   0.   1.   0.  ]\n",
      " [0.67 0.   0.   1.   0.  ]\n",
      " [1.   1.   0.   0.75 0.  ]\n",
      " [1.   0.   0.   1.   0.  ]\n",
      " [0.67 0.   0.   1.   0.  ]\n",
      " [1.   0.   0.   1.   0.  ]\n",
      " [1.   1.   1.   1.   1.  ]\n",
      " [1.   1.   1.   1.   1.  ]\n",
      " [1.   1.   1.   1.   1.  ]\n",
      " [1.   1.   1.   1.   1.  ]\n",
      " [1.   0.   0.   1.   1.  ]\n",
      " [1.   1.   0.   1.   0.  ]\n",
      " [1.   0.   0.   0.5  0.  ]\n",
      " [1.   1.   0.   0.5  0.  ]\n",
      " [1.   0.   0.   0.75 0.  ]\n",
      " [1.   0.   0.   0.5  0.  ]\n",
      " [0.67 1.   0.   1.   0.  ]\n",
      " [1.   0.   0.   1.   0.  ]\n",
      " [1.   0.   0.   1.   0.  ]\n",
      " [0.67 1.   0.   0.25 0.  ]\n",
      " [1.   0.   0.   0.25 0.  ]\n",
      " [0.67 1.   0.   0.25 0.  ]\n",
      " [1.   0.   0.   0.25 0.  ]\n",
      " [1.   1.   1.   0.25 0.  ]\n",
      " [1.   1.   0.   0.25 0.  ]\n",
      " [0.   0.   0.   0.25 0.  ]\n",
      " [1.   0.   0.   0.25 0.  ]\n",
      " [1.   0.   0.   0.25 0.  ]\n",
      " [1.   0.   0.   0.25 0.  ]\n",
      " [0.67 0.   0.   0.25 0.  ]\n",
      " [1.   0.   0.   0.25 0.  ]\n",
      " [1.   0.   1.   1.   0.  ]\n",
      " [1.   0.   0.   1.   0.  ]\n",
      " [1.   1.   1.   1.   1.  ]\n",
      " [0.33 1.   1.   1.   1.  ]\n",
      " [1.   1.   1.   1.   1.  ]\n",
      " [1.   1.   1.   1.   1.  ]\n",
      " [0.67 0.   0.   0.25 0.  ]\n",
      " [1.   0.   0.   0.25 0.  ]\n",
      " [0.67 0.   0.   0.25 0.  ]\n",
      " [1.   0.   0.   0.25 0.  ]\n",
      " [1.   0.   0.   0.25 0.  ]\n",
      " [1.   0.   0.   0.25 0.  ]\n",
      " [0.33 0.   0.   0.25 0.  ]\n",
      " [1.   0.   0.   1.   0.  ]\n",
      " [1.   0.   0.   0.25 0.  ]\n",
      " [0.67 0.   0.   1.   0.  ]\n",
      " [1.   0.   0.   0.25 0.  ]\n",
      " [0.67 0.   0.   0.25 0.  ]\n",
      " [0.67 0.   0.   0.25 0.  ]\n",
      " [1.   0.   0.   0.25 0.  ]\n",
      " [1.   0.   0.   0.25 0.  ]\n",
      " [1.   0.   0.   0.5  1.  ]\n",
      " [0.33 0.   0.   0.25 1.  ]\n",
      " [1.   0.   0.   1.   0.  ]\n",
      " [0.67 1.   0.   0.5  0.  ]\n",
      " [1.   0.   1.   0.5  0.  ]\n",
      " [1.   0.   0.   0.75 0.  ]\n",
      " [0.67 0.   0.   1.   0.  ]\n",
      " [1.   0.   0.   0.5  0.  ]\n",
      " [1.   0.   0.   1.   1.  ]\n",
      " [1.   0.   0.   1.   0.  ]\n",
      " [1.   1.   0.   1.   1.  ]\n",
      " [1.   1.   1.   1.   1.  ]]\n"
     ]
    }
   ],
   "source": [
    "print(x)"
   ]
  },
  {
   "cell_type": "code",
   "execution_count": 18,
   "metadata": {},
   "outputs": [
    {
     "name": "stdout",
     "output_type": "stream",
     "text": [
      "[0.8   0.8   0.8   0.35  0.8   0.55  0.384 1.    1.    0.384 0.8   0.8\n",
      " 1.    1.    0.534 0.4   0.8   0.534 0.8   0.534 0.7   0.3   0.6   0.4\n",
      " 0.4   0.6   0.2   0.4   0.4   0.4   0.4   0.334 0.4   0.484 0.334 0.6\n",
      " 0.4   0.334 0.55  0.4   0.334 0.4   1.    1.    1.    1.    0.6   0.6\n",
      " 0.3   0.5   0.35  0.3   0.534 0.4   0.4   0.384 0.25  0.384 0.25  0.65\n",
      " 0.45  0.05  0.25  0.25  0.25  0.184 0.25  0.6   0.4   1.    0.866 1.\n",
      " 1.    0.184 0.25  0.184 0.25  0.25  0.25  0.116 0.4   0.25  0.334 0.25\n",
      " 0.184 0.184 0.25  0.25  0.5   0.316 0.4   0.434 0.5   0.35  0.334 0.3\n",
      " 0.6   0.4   0.8   1.   ]\n"
     ]
    }
   ],
   "source": [
    "print(y)"
   ]
  },
  {
   "cell_type": "markdown",
   "metadata": {},
   "source": [
    "Slipt the dataset in training set and test set"
   ]
  },
  {
   "cell_type": "code",
   "execution_count": 19,
   "metadata": {},
   "outputs": [],
   "source": [
    "from sklearn.model_selection import train_test_split\n",
    "x_train,x_test,y_train,y_test=train_test_split (x,y,test_size=0.3,random_state=0)"
   ]
  },
  {
   "cell_type": "markdown",
   "metadata": {},
   "source": [
    "Train the model on the training set"
   ]
  },
  {
   "cell_type": "code",
   "execution_count": 20,
   "metadata": {},
   "outputs": [
    {
     "data": {
      "text/plain": [
       "LinearRegression()"
      ]
     },
     "execution_count": 20,
     "metadata": {},
     "output_type": "execute_result"
    }
   ],
   "source": [
    "from sklearn.linear_model import LinearRegression\n",
    "ml= LinearRegression()\n",
    "ml.fit(x_train,y_train)"
   ]
  },
  {
   "cell_type": "code",
   "execution_count": 21,
   "metadata": {},
   "outputs": [
    {
     "name": "stdout",
     "output_type": "stream",
     "text": [
      "[0.2   0.25  0.8   0.384 0.184 0.35  0.8   0.184 0.4   0.3   0.4   0.5\n",
      " 0.25  1.    1.    0.4   0.6   0.4   0.484 1.    1.    0.25  0.35  1.\n",
      " 1.    0.3   0.384 1.    0.334 0.25 ]\n"
     ]
    }
   ],
   "source": [
    "y_pred=ml.predict(x_test)\n",
    "print(y_pred)"
   ]
  },
  {
   "cell_type": "code",
   "execution_count": 22,
   "metadata": {},
   "outputs": [
    {
     "data": {
      "text/plain": [
       "array([0.8])"
      ]
     },
     "execution_count": 22,
     "metadata": {},
     "output_type": "execute_result"
    }
   ],
   "source": [
    "ml.predict([[1.0,1,0,1.00,1]])"
   ]
  },
  {
   "cell_type": "code",
   "execution_count": 23,
   "metadata": {},
   "outputs": [
    {
     "data": {
      "text/plain": [
       "1.0"
      ]
     },
     "execution_count": 23,
     "metadata": {},
     "output_type": "execute_result"
    }
   ],
   "source": [
    "from sklearn.metrics import r2_score\n",
    "r2_score(y_test,y_pred)"
   ]
  },
  {
   "cell_type": "code",
   "execution_count": 26,
   "metadata": {},
   "outputs": [
    {
     "data": {
      "text/plain": [
       "Text(0.5, 1.0, 'Actual vs. Predicted')"
      ]
     },
     "execution_count": 26,
     "metadata": {},
     "output_type": "execute_result"
    },
    {
     "data": {
      "image/png": "[encoded data removed]",
      "text/plain": [
       "<Figure size 432x288 with 1 Axes>"
      ]
     },
     "metadata": {
      "needs_background": "light"
     },
     "output_type": "display_data"
    }
   ],
   "source": [
    "import matplotlib.pyplot as plt\n",
    "plt.scatter (y_test,y_pred)\n",
    "plt.xlabel(\"Actual\")\n",
    "plt.ylabel('Predicted')\n",
    "plt.title('Actual vs. Predicted')"
   ]
  },
  {
   "cell_type": "code",
   "execution_count": 29,
   "metadata": {},
   "outputs": [
    {
     "data": {
      "text/plain": [
       "(100, 6)"
      ]
     },
     "execution_count": 29,
     "metadata": {},
     "output_type": "execute_result"
    }
   ],
   "source": [
    "data_df.shape"
   ]
  },
  {
   "cell_type": "markdown",
   "metadata": {},
   "source": [
    "Predicted values"
   ]
  },
  {
   "cell_type": "code",
   "execution_count": 30,
   "metadata": {},
   "outputs": [
    {
     "data": {
      "text/html": [
       "<div>\n",
       "<style scoped>\n",
       "    .dataframe tbody tr th:only-of-type {\n",
       "        vertical-align: middle;\n",
       "    }\n",
       "\n",
       "    .dataframe tbody tr th {\n",
       "        vertical-align: top;\n",
       "    }\n",
       "\n",
       "    .dataframe thead th {\n",
       "        text-align: right;\n",
       "    }\n",
       "</style>\n",
       "<table border=\"1\" class=\"dataframe\">\n",
       "  <thead>\n",
       "    <tr style=\"text-align: right;\">\n",
       "      <th></th>\n",
       "      <th>Actual Value</th>\n",
       "      <th>Predicted value</th>\n",
       "      <th>Diference</th>\n",
       "    </tr>\n",
       "  </thead>\n",
       "  <tbody>\n",
       "    <tr>\n",
       "      <th>0</th>\n",
       "      <td>0.200</td>\n",
       "      <td>0.200</td>\n",
       "      <td>-1.665335e-16</td>\n",
       "    </tr>\n",
       "    <tr>\n",
       "      <th>1</th>\n",
       "      <td>0.250</td>\n",
       "      <td>0.250</td>\n",
       "      <td>-5.551115e-17</td>\n",
       "    </tr>\n",
       "    <tr>\n",
       "      <th>2</th>\n",
       "      <td>0.800</td>\n",
       "      <td>0.800</td>\n",
       "      <td>0.000000e+00</td>\n",
       "    </tr>\n",
       "    <tr>\n",
       "      <th>3</th>\n",
       "      <td>0.384</td>\n",
       "      <td>0.384</td>\n",
       "      <td>5.551115e-17</td>\n",
       "    </tr>\n",
       "    <tr>\n",
       "      <th>4</th>\n",
       "      <td>0.184</td>\n",
       "      <td>0.184</td>\n",
       "      <td>-5.551115e-17</td>\n",
       "    </tr>\n",
       "    <tr>\n",
       "      <th>5</th>\n",
       "      <td>0.350</td>\n",
       "      <td>0.350</td>\n",
       "      <td>-1.110223e-16</td>\n",
       "    </tr>\n",
       "    <tr>\n",
       "      <th>6</th>\n",
       "      <td>0.800</td>\n",
       "      <td>0.800</td>\n",
       "      <td>0.000000e+00</td>\n",
       "    </tr>\n",
       "    <tr>\n",
       "      <th>7</th>\n",
       "      <td>0.184</td>\n",
       "      <td>0.184</td>\n",
       "      <td>-5.551115e-17</td>\n",
       "    </tr>\n",
       "    <tr>\n",
       "      <th>8</th>\n",
       "      <td>0.400</td>\n",
       "      <td>0.400</td>\n",
       "      <td>-1.110223e-16</td>\n",
       "    </tr>\n",
       "    <tr>\n",
       "      <th>9</th>\n",
       "      <td>0.300</td>\n",
       "      <td>0.300</td>\n",
       "      <td>-1.110223e-16</td>\n",
       "    </tr>\n",
       "    <tr>\n",
       "      <th>10</th>\n",
       "      <td>0.400</td>\n",
       "      <td>0.400</td>\n",
       "      <td>-1.110223e-16</td>\n",
       "    </tr>\n",
       "    <tr>\n",
       "      <th>11</th>\n",
       "      <td>0.500</td>\n",
       "      <td>0.500</td>\n",
       "      <td>-2.220446e-16</td>\n",
       "    </tr>\n",
       "    <tr>\n",
       "      <th>12</th>\n",
       "      <td>0.250</td>\n",
       "      <td>0.250</td>\n",
       "      <td>-5.551115e-17</td>\n",
       "    </tr>\n",
       "    <tr>\n",
       "      <th>13</th>\n",
       "      <td>1.000</td>\n",
       "      <td>1.000</td>\n",
       "      <td>-2.220446e-16</td>\n",
       "    </tr>\n",
       "    <tr>\n",
       "      <th>14</th>\n",
       "      <td>1.000</td>\n",
       "      <td>1.000</td>\n",
       "      <td>-2.220446e-16</td>\n",
       "    </tr>\n",
       "    <tr>\n",
       "      <th>15</th>\n",
       "      <td>0.400</td>\n",
       "      <td>0.400</td>\n",
       "      <td>-1.110223e-16</td>\n",
       "    </tr>\n",
       "    <tr>\n",
       "      <th>16</th>\n",
       "      <td>0.600</td>\n",
       "      <td>0.600</td>\n",
       "      <td>1.110223e-16</td>\n",
       "    </tr>\n",
       "    <tr>\n",
       "      <th>17</th>\n",
       "      <td>0.400</td>\n",
       "      <td>0.400</td>\n",
       "      <td>-1.110223e-16</td>\n",
       "    </tr>\n",
       "    <tr>\n",
       "      <th>18</th>\n",
       "      <td>0.484</td>\n",
       "      <td>0.484</td>\n",
       "      <td>-2.220446e-16</td>\n",
       "    </tr>\n",
       "    <tr>\n",
       "      <th>19</th>\n",
       "      <td>1.000</td>\n",
       "      <td>1.000</td>\n",
       "      <td>-2.220446e-16</td>\n",
       "    </tr>\n",
       "  </tbody>\n",
       "</table>\n",
       "</div>"
      ],
      "text/plain": [
       "    Actual Value  Predicted value     Diference\n",
       "0          0.200            0.200 -1.665335e-16\n",
       "1          0.250            0.250 -5.551115e-17\n",
       "2          0.800            0.800  0.000000e+00\n",
       "3          0.384            0.384  5.551115e-17\n",
       "4          0.184            0.184 -5.551115e-17\n",
       "5          0.350            0.350 -1.110223e-16\n",
       "6          0.800            0.800  0.000000e+00\n",
       "7          0.184            0.184 -5.551115e-17\n",
       "8          0.400            0.400 -1.110223e-16\n",
       "9          0.300            0.300 -1.110223e-16\n",
       "10         0.400            0.400 -1.110223e-16\n",
       "11         0.500            0.500 -2.220446e-16\n",
       "12         0.250            0.250 -5.551115e-17\n",
       "13         1.000            1.000 -2.220446e-16\n",
       "14         1.000            1.000 -2.220446e-16\n",
       "15         0.400            0.400 -1.110223e-16\n",
       "16         0.600            0.600  1.110223e-16\n",
       "17         0.400            0.400 -1.110223e-16\n",
       "18         0.484            0.484 -2.220446e-16\n",
       "19         1.000            1.000 -2.220446e-16"
      ]
     },
     "execution_count": 30,
     "metadata": {},
     "output_type": "execute_result"
    }
   ],
   "source": [
    "pred_y_df=pd.DataFrame({'Actual Value':y_test,'Predicted value':y_pred,'Diference':y_test-y_pred})\n",
    "pred_y_df[0:20]"
   ]
  },
  {
   "cell_type": "code",
   "execution_count": null,
   "metadata": {},
   "outputs": [],
   "source": []
  }
 ],
 "metadata": {
  "kernelspec": {
   "display_name": "Python 3",
   "language": "python",
   "name": "python3"
  },
  "language_info": {
   "codemirror_mode": {
    "name": "ipython",
    "version": 3
   },
   "file_extension": ".py",
   "mimetype": "text/x-python",
   "name": "python",
   "nbconvert_exporter": "python",
   "pygments_lexer": "ipython3",
   "version": "3.8.5"
  }
 },
 "nbformat": 4,
 "nbformat_minor": 4
}
